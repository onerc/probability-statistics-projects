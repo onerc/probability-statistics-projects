{
 "cells": [
  {
   "cell_type": "markdown",
   "id": "63bc33c4-ada9-4ee6-9f82-ed593638c347",
   "metadata": {},
   "source": [
    "## 1. Bir partideki toplam 16 kayıt cihazından 4’ü arızalıdır. Bu partiden rastgele 3 kayıt cihazı seçilirse, seçilen arızalı kayıt cihazı sayısının olasılık dağılımını, beklenen değerini, varyansını ve standart sapmasını hesaplayınız."
   ]
  },
  {
   "cell_type": "code",
   "execution_count": null,
   "id": "e39ea573-ff9f-4a20-97bc-6c8cf2097677",
   "metadata": {},
   "outputs": [],
   "source": [
    "from sympy.stats import FiniteRV, density, E, variance, std\n",
    "finX = FiniteRV('X', {0: 11/28, 1: 33/70, 2: 9/70, 3: 1/140}) \n",
    "print(f\"Olasılık dağılımı: {density(finX).dict}\")\n",
    "print(f\"Beklenen değer: {E(finX).round(2)}\")\n",
    "print(f\"Varyans: {variance(finX).round(4)}\")\n",
    "print(f\"Standart sapma: {std(finX).round(3)}\")"
   ]
  },
  {
   "cell_type": "code",
   "execution_count": null,
   "id": "54e0f857-f39e-4be8-ae7c-33ccb93ecf8c",
   "metadata": {},
   "outputs": [],
   "source": [
    "from sympy.stats import Hypergeometric, density, E, variance, std\n",
    "hypX = Hypergeometric('X', 16, 4, 3)\n",
    "print(f\"Olasılık dağılımı: {density(hypX).dict}\")\n",
    "print(f\"Beklenen değer: {E(hypX).round(2)}\")\n",
    "print(f\"Varyans: {variance(hypX)}\")\n",
    "print(f\"Standart sapma: {std(hypX)}\")"
   ]
  },
  {
   "cell_type": "code",
   "execution_count": null,
   "id": "c2639b5c-89ec-48db-ab33-cf1e0559fd68",
   "metadata": {},
   "outputs": [],
   "source": [
    "from scipy.stats import hypergeom\n",
    "print(f\"Olasılık dağılımı: {hypergeom.pmf([0, 1, 2, 3], 16, 4, 3)}\")\n",
    "print(f\"Beklenen değer: {hypergeom.expect(args=(16, 4, 3)).round(2)}\")\n",
    "print(f\"Varyans: {hypergeom.var(16,4,3)}\")\n",
    "print(f\"Standart sapma: {hypergeom.std(16,4,3).round(3)}\")"
   ]
  },
  {
   "cell_type": "markdown",
   "id": "7600f88c-8ef8-4155-9df9-f823468d37b2",
   "metadata": {},
   "source": [
    "## 2. Belirli bir kavşakta kırmızı ışıkta duran bir sürücünün ışığın yeşile dönmesi için bekleme süresi (saniye) [0, 30] aralığında düzgün (tekdüze, uniform) dağılıma sahiptir. Sürücünün bekleme süresinin 10 saniyeden az olması olasılığını, 24 saniyeden fazla olması olasılığını, ortalamasını, varyansını ve standart sapmasını hesaplayınız."
   ]
  },
  {
   "cell_type": "code",
   "execution_count": null,
   "id": "788bd06d-a7a4-473a-9d71-f254b3fb9366",
   "metadata": {},
   "outputs": [],
   "source": [
    "from sympy.stats import Uniform, E, variance, std, cdf\n",
    "uniX = Uniform(\"X\", 0, 30)\n",
    "print(f\"Sürücünün bekleme süresinin 10 saniyeden az olması olasılığı: {cdf(uniX)(10)}\")\n",
    "print(f\"Sürücünün bekleme süresinin 24 saniyeden fazla olması olasılığı: {cdf(uniX)(6)}\")\n",
    "print(f\"Sürücünün bekleme süresinin ortalaması: {E(uniX)}\")\n",
    "print(f\"Sürücünün bekleme süresinin varyansı: {variance(uniX)}\")\n",
    "print(f\"Sürücünün bekleme süresinin standart sapması: {std(uniX)}\")"
   ]
  },
  {
   "cell_type": "code",
   "execution_count": null,
   "id": "6741a64e-8a08-4b75-94c5-8de62d02c586",
   "metadata": {},
   "outputs": [],
   "source": [
    "from scipy.stats import uniform\n",
    "print(f\"Sürücünün bekleme süresinin 10 saniyeden az olması olasılığı: {uniform.cdf(10, 0, 30).round(1)}\")\n",
    "print(f\"Sürücünün bekleme süresinin 24 saniyeden fazla olması olasılığı: {uniform.sf(24, 0, 30).round(2)}\")\n",
    "print(f\"Sürücünün bekleme süresinin ortalaması: {uniform.mean(0,30)}\")\n",
    "print(f\"Sürücünün bekleme süresinin varyansı: {uniform.var(0,30)}\")\n",
    "print(f\"Sürücünün bekleme süresinin standart sapması: {uniform.std(0,30).round(2)}\")"
   ]
  },
  {
   "cell_type": "markdown",
   "id": "245c55aa-6a6b-43f6-a93c-04781be4a258",
   "metadata": {},
   "source": [
    "## 5. Kanada’nın Hamilton şehrinde televizyon sahibi olan 500 aileden oluşan bir rastgele örneklemde, 340 ailenin HBO’ya abone olduğu gözlemlenmiştir. Bu şehirde televizyonu olan HBO abonesi ailelerin gerçek oranı için bir %95 güven aralığı elde ediniz. Güven aralığını elde ederken güvenilirlik katsayısı (reliability factor), standart hata (standard error), hata marjini (margin of error), alt güven sınırı (lower confidence limit) ve üst güven sınırını (upper confidence limit) hesaplayınız."
   ]
  },
  {
   "cell_type": "code",
   "execution_count": null,
   "id": "dc42de38-e2aa-4fed-b437-c00e20f9f99c",
   "metadata": {},
   "outputs": [],
   "source": [
    "from math import sqrt\n",
    "x = 340\n",
    "n = 500\n",
    "p = x/n\n",
    "\n",
    "reliability_factor = 1.96\n",
    "standard_error = sqrt( p * (1 - p) / n )\n",
    "margin_of_error = reliability_factor * standard_error\n",
    "lower_conf_limit = p - margin_of_error\n",
    "upper_conf_limit = p + margin_of_error\n",
    "\n",
    "print(f\"Reliability factor: {reliability_factor}\")\n",
    "print(f\"Standard error: {round(standard_error,4)}\")\n",
    "print(f\"Margin of error: {round(margin_of_error, 3)}\")\n",
    "print(f\"Lower confidence limit: {round(lower_conf_limit, 3)}\")\n",
    "print(f\"Upper confidence limit: {round(upper_conf_limit, 3)}\")"
   ]
  }
 ],
 "metadata": {
  "kernelspec": {
   "display_name": "Python 3 (ipykernel)",
   "language": "python",
   "name": "python3"
  },
  "language_info": {
   "codemirror_mode": {
    "name": "ipython",
    "version": 3
   },
   "file_extension": ".py",
   "mimetype": "text/x-python",
   "name": "python",
   "nbconvert_exporter": "python",
   "pygments_lexer": "ipython3",
   "version": "3.11.8"
  }
 },
 "nbformat": 4,
 "nbformat_minor": 5
}
