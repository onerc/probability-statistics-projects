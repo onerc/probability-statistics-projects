{
 "cells": [
  {
   "cell_type": "code",
   "execution_count": null,
   "id": "ce8d888f-1769-47e8-9e37-59c82268bb12",
   "metadata": {},
   "outputs": [],
   "source": [
    "import statistics\n",
    "import numpy as np\n",
    "import matplotlib.pyplot as plt\n",
    "import pandas as pd\n",
    "import stemgraphic\n",
    "dataset = [10,20,20,30,30,30,40,40,40,40,50,50,50,50,50,60,60,60,60,60,60,70,70,70,70,70,70,70,80,80]"
   ]
  },
  {
   "cell_type": "markdown",
   "id": "67e75dd7-2e62-4c29-90c6-8439f07558a3",
   "metadata": {},
   "source": [
    "## 1. Örneklem büyüklüğü 30 olan kendi oluşturduğunuz bir veri kümesi için"
   ]
  },
  {
   "cell_type": "markdown",
   "id": "251257d6-5514-4d2e-afd9-de143d776a77",
   "metadata": {},
   "source": [
    "## a) Ortalama ve standart sapma değerlerini hesaplayınız."
   ]
  },
  {
   "cell_type": "code",
   "execution_count": null,
   "id": "7caecea7-aefd-4a09-b309-92a978fa76d6",
   "metadata": {},
   "outputs": [],
   "source": [
    "print(f\"Veri kümesinin ortalaması: {statistics.mean(dataset)}\\nVeri kümesinin standart sapma değeri: {round(statistics.stdev(dataset),2)}\")"
   ]
  },
  {
   "cell_type": "markdown",
   "id": "a618e06a-5070-4bc0-ac3e-b89569780df9",
   "metadata": {},
   "source": [
    "## b) Ortanca, mod, ve kartil (çeyreklik) değerlerini hesaplayınız."
   ]
  },
  {
   "cell_type": "code",
   "execution_count": null,
   "id": "e0e209dd-1a0e-4094-8316-c1e6b4e87794",
   "metadata": {},
   "outputs": [],
   "source": [
    "print(f\"Veri kümesinin ortancası: {statistics.median(dataset)}\\nVeri kümesinin modu: {statistics.mode(dataset)}\\nVeri kümesinin kartilleri: {statistics.quantiles(dataset)} \")\n"
   ]
  },
  {
   "cell_type": "markdown",
   "id": "1dca75b3-e320-4c85-9193-8d8f23b82a4e",
   "metadata": {},
   "source": [
    "## c) Ortalama, ortanca ve mod değerlerini kıyaslayarak veri kümenizin çarpıklığı hakkında yorum yapınız."
   ]
  },
  {
   "cell_type": "markdown",
   "id": "437fadc5-6bcb-469d-a010-032b625e5ab4",
   "metadata": {},
   "source": [
    "Ortalama < medyan < mod olduğu için veri kümesi negatif olarak çarpıktır."
   ]
  },
  {
   "cell_type": "markdown",
   "id": "ca4d82b9-e688-4821-af9d-e7121559c418",
   "metadata": {},
   "source": [
    "## d) Aralık ve kartiller arası aralık (IQR) değerlerini hesaplayınız."
   ]
  },
  {
   "cell_type": "code",
   "execution_count": null,
   "id": "8da87661-3bd3-4f0f-a9c8-96fb78eb5d6c",
   "metadata": {},
   "outputs": [],
   "source": [
    "print(f\"Veri kümesinin aralık değeri: {np.ptp(dataset)}\\nVeri kümesinin kartiller arası aralık değeri: {statistics.quantiles(dataset)[2] - statistics.quantiles(dataset)[0]}\")"
   ]
  },
  {
   "cell_type": "markdown",
   "id": "99b71129-d1b6-4dcf-ae22-f0e6d862f081",
   "metadata": {},
   "source": [
    "## e) 6 sınıf içeren bir frekans dağılım tablosu elde ediniz."
   ]
  },
  {
   "cell_type": "code",
   "execution_count": null,
   "id": "f728abfa-d0fc-4002-ab01-81ebe11884e5",
   "metadata": {},
   "outputs": [],
   "source": [
    "temp = pd.Series(dataset).value_counts(bins=6).sort_index()\n",
    "data = {\"Sınıf\": temp.index, \"Frekans\": temp.values,}\n",
    "df2 = pd.DataFrame(data)\n",
    "df2[\"Kümülatif frekans\"] = np.cumsum(df2['Frekans'])\n",
    "\n",
    "df2"
   ]
  },
  {
   "cell_type": "markdown",
   "id": "03dd3645-5f47-47b5-acc7-3bcd58180883",
   "metadata": {},
   "source": [
    "## f) Frekans tablosunu kullanarak ilgili histogram ve ogive grafiklerini çiziniz."
   ]
  },
  {
   "cell_type": "code",
   "execution_count": null,
   "id": "21f33a3c-adbb-4ba0-b269-627d9ceed64c",
   "metadata": {},
   "outputs": [],
   "source": [
    "hist = df2[\"Frekans\"].values\n",
    "bin_edges = np.histogram(dataset, bins=6)[1]\n",
    "fig, ax = plt.subplots()\n",
    "ax.hist(dataset, bin_edges, edgecolor=\"Black\")\n",
    "plt.title('Histogram')\n",
    "plt.show()"
   ]
  },
  {
   "cell_type": "code",
   "execution_count": null,
   "id": "9fd9f5f9-5207-4cc2-98fb-939a02130648",
   "metadata": {},
   "outputs": [],
   "source": [
    "plt.plot(bin_edges[1:], df2['Kümülatif frekans'], marker='o')\n",
    "plt.title('Ogive')\n",
    "plt.show()"
   ]
  },
  {
   "cell_type": "markdown",
   "id": "62e552c1-a7b6-444a-9c89-00179bb52e1a",
   "metadata": {},
   "source": [
    "## g) Veri kümenize ait bir gövde-yaprak grafiği elde ediniz."
   ]
  },
  {
   "cell_type": "code",
   "execution_count": null,
   "id": "15c22302-0eb4-4a18-923f-b873519b189d",
   "metadata": {},
   "outputs": [],
   "source": [
    "stemgraphic.stem_graphic(dataset, scale=10, asc=False)"
   ]
  },
  {
   "cell_type": "markdown",
   "id": "393298a3-b270-4766-950c-817db1ebb66a",
   "metadata": {},
   "source": [
    "## 2. Aşağıdaki soruları yanıtlayınız."
   ]
  },
  {
   "cell_type": "markdown",
   "id": "e7af951d-7db1-41ef-91f1-ca5112fc9849",
   "metadata": {},
   "source": [
    "## a) Kovaryans ve korelasyon katsayısı nedir ve ne işe yarar? Detaylıca açıklayınız."
   ]
  },
  {
   "cell_type": "markdown",
   "id": "c6a89f9f-0613-43f2-82ad-4f531e27c09a",
   "metadata": {},
   "source": [
    "Kovaryans katsayısı, iki değişken arasındaki pozitif ya da negatif ilişkiyi tanımlayan, bu ilişki hakkında yorum yapabilmemizi sağlayan değerdir. Popülasyon kovaryansı ve örneklem kovaryansı olarak ikiye ayrılır. Aralarındaki fark popülasyon kovaryansının tüm veri kümesi(N) üzerinde, örneklem kovaryansının ise örneklem(N-1) üzerinde uygulanıyor olmasıdır.\n",
    "\n",
    "Korelasyon katsayısı ise kovaryansa benzer olarak iki değişken arasındaki ilişkinin yönünü ve gücünü verir. Fakat kovaryanstan farklı olarak değişkenlerin büyüklüğünden etkilenmeden -1 ve +1 arasında standart bir değer sunar. En bilinen türleri Pearson, Spearman ve Kendall'dır."
   ]
  },
  {
   "cell_type": "markdown",
   "id": "ae1a817f-4af9-4045-b0c8-f25106bc102f",
   "metadata": {},
   "source": [
    "## b) Kovaryans ve korelasyon katsayısı değerlerini hesaplayabileceğiniz bir veri kümesi oluşturup bu değerleri elde ediniz."
   ]
  },
  {
   "cell_type": "code",
   "execution_count": null,
   "id": "727e41de-b440-4a5b-ab08-71caf4bf62a0",
   "metadata": {},
   "outputs": [],
   "source": [
    "# \"Örneklem\" verilerim\n",
    "x = [15,  28,  32,  46,  59,  65,  77,  81,  93, 100]\n",
    "y = [300, 243, 236, 195, 186, 154, 138, 128, 84, 60]"
   ]
  },
  {
   "cell_type": "code",
   "execution_count": null,
   "id": "4e049afb-3f6c-4915-bc3d-efb232731eb2",
   "metadata": {},
   "outputs": [],
   "source": [
    "np.cov(x,y)[0][1].round(2) # Popülasyon kovaryansı hesaplayacak olsak bias'ı True yapmamız gerekirdi."
   ]
  },
  {
   "cell_type": "code",
   "execution_count": null,
   "id": "fd428afa-53e4-4bdb-bd40-28fe69848702",
   "metadata": {},
   "outputs": [],
   "source": [
    "np.corrcoef(x,y)[0][1].round(2)"
   ]
  },
  {
   "cell_type": "markdown",
   "id": "abef6ba6-79ac-48fd-9701-2fb5c93e2548",
   "metadata": {},
   "source": [
    "## c) Veri kümenize ait saçılım garifiğini çiziniz."
   ]
  },
  {
   "cell_type": "code",
   "execution_count": null,
   "id": "c9a574e2-70cf-4ffa-9464-f40010992da5",
   "metadata": {},
   "outputs": [],
   "source": [
    "plt.scatter(range(1,11),x, label=\"X\")\n",
    "plt.scatter(range(1,11),y, label=\"Y\")\n",
    "plt.title(\"Saçılım\")\n",
    "plt.legend()\n",
    "plt.show()"
   ]
  },
  {
   "cell_type": "markdown",
   "id": "9f951ce0-0dc7-49e4-a8b4-f261a6568d60",
   "metadata": {},
   "source": [
    "## d) Elde ettiğiniz kovaryans ve korelasyon katsayısı değerleri ve oluşturduğunuz saçılım grafiğini kullanarak veri kümenizi oluşturan değişkenler arasındaki ilişki hakkında yorum yapınız."
   ]
  },
  {
   "cell_type": "markdown",
   "id": "87235cbc-dbf8-441b-a416-1c6d9b63ac50",
   "metadata": {},
   "source": [
    "İki veri kümesi arasında çok güçlü negatif bir ilişki vardır. X kümesindeki değerler arttıkça Y kümesindeki değerler azalma eğilimi göstermektedir."
   ]
  },
  {
   "cell_type": "code",
   "execution_count": null,
   "id": "ec9e7fdb-2c22-4bf6-9207-5f713c771acf",
   "metadata": {},
   "outputs": [],
   "source": []
  }
 ],
 "metadata": {
  "kernelspec": {
   "display_name": "Python 3 (ipykernel)",
   "language": "python",
   "name": "python3"
  },
  "language_info": {
   "codemirror_mode": {
    "name": "ipython",
    "version": 3
   },
   "file_extension": ".py",
   "mimetype": "text/x-python",
   "name": "python",
   "nbconvert_exporter": "python",
   "pygments_lexer": "ipython3",
   "version": "3.11.8"
  }
 },
 "nbformat": 4,
 "nbformat_minor": 5
}
